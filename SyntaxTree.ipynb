{
 "cells": [
  {
   "cell_type": "code",
   "execution_count": 11,
   "metadata": {},
   "outputs": [
    {
     "name": "stdout",
     "output_type": "stream",
     "text": [
      "Module: Module(\n",
      "   body=[\n",
      "      Expr(\n",
      "         value=BinOp(\n",
      "            left=BinOp(\n",
      "               left=Constant(value=2),\n",
      "               op=Add(),\n",
      "               right=Constant(value=4)),\n",
      "            op=Sub(),\n",
      "            right=BinOp(\n",
      "               left=Constant(value=6),\n",
      "               op=Mult(),\n",
      "               right=Constant(value=3))))],\n",
      "   type_ignores=[])\n",
      "Expr: Expr(\n",
      "  value=BinOp(\n",
      "    left=BinOp(\n",
      "      left=Constant(value=2),\n",
      "      op=Add(),\n",
      "      right=Constant(value=4)),\n",
      "    op=Sub(),\n",
      "    right=BinOp(\n",
      "      left=Constant(value=6),\n",
      "      op=Mult(),\n",
      "      right=Constant(value=3))))\n",
      "BinOp: BinOp(\n",
      "  left=BinOp(\n",
      "    left=Constant(value=2),\n",
      "    op=Add(),\n",
      "    right=Constant(value=4)),\n",
      "  op=Sub(),\n",
      "  right=BinOp(\n",
      "    left=Constant(value=6),\n",
      "    op=Mult(),\n",
      "    right=Constant(value=3)))\n",
      "BinOp: BinOp(\n",
      "  left=Constant(value=2),\n",
      "  op=Add(),\n",
      "  right=Constant(value=4))\n",
      "Constant: Constant(value=2)\n",
      "Add: Add()\n",
      "Constant: Constant(value=4)\n",
      "Sub: Sub()\n",
      "BinOp: BinOp(\n",
      "  left=Constant(value=6),\n",
      "  op=Mult(),\n",
      "  right=Constant(value=3))\n",
      "Constant: Constant(value=6)\n",
      "Mult: Mult()\n",
      "Constant: Constant(value=3)\n"
     ]
    }
   ],
   "source": [
    "\n",
    "import ast\n",
    "\n",
    "class SyntaxTree():\n",
    "    def __init__(self) -> None:\n",
    "        pass\n",
    "    def create_syntax_tree(self,expression):\n",
    "        tree = ast.parse(expression)\n",
    "        return tree\n",
    "\n",
    "    def Output(self,node):  \n",
    "        print(f\"{node.__class__.__name__}: {ast.dump(node,indent = 3)}\")\n",
    "        for child in ast.iter_child_nodes(node):\n",
    "            visit(child)\n",
    "            \n",
    "    def takeinput(self):\n",
    "        expression = input(\"Enter an Expression for Syntax Tree e.g(2 + 3 * 4)\")\n",
    "        return expression\n",
    "        \n",
    "\n",
    "\n",
    "obj = SyntaxTree()\n",
    "expression = obj.takeinput()\n",
    "asttree = obj.create_syntax_tree(expression)\n",
    "obj.Output(asttree)\n"
   ]
  }
 ],
 "metadata": {
  "kernelspec": {
   "display_name": "Python 3",
   "language": "python",
   "name": "python3"
  },
  "language_info": {
   "codemirror_mode": {
    "name": "ipython",
    "version": 3
   },
   "file_extension": ".py",
   "mimetype": "text/x-python",
   "name": "python",
   "nbconvert_exporter": "python",
   "pygments_lexer": "ipython3",
   "version": "3.11.0 (main, Oct 24 2022, 18:26:48) [MSC v.1933 64 bit (AMD64)]"
  },
  "orig_nbformat": 4,
  "vscode": {
   "interpreter": {
    "hash": "379fe8e10ded02fa94a29b4b37a41c7d80f19320dc2f2cadbccf353975fbaaa0"
   }
  }
 },
 "nbformat": 4,
 "nbformat_minor": 2
}
